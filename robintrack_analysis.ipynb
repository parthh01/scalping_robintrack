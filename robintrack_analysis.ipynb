{
 "cells": [
  {
   "cell_type": "code",
   "execution_count": 1,
   "metadata": {},
   "outputs": [],
   "source": [
    "import pandas as pd \n",
    "import os\n",
    "from config import * \n",
    "import matplotlib.pyplot as plt \n",
    "import datetime\n",
    "import numpy as np \n",
    "warnings.filterwarnings(\"ignore\")\n",
    "\n",
    "directory = os.fsencode('popularity_export')\n",
    "dir_str = os.fsdecode(directory)"
   ]
  },
  {
   "cell_type": "code",
   "execution_count": 3,
   "metadata": {},
   "outputs": [],
   "source": [
    "\n",
    "\n",
    "def merge_rh_vol_w_barset(security,calc_profit = True,trend_window = 4,vol_thresh = 0,path = 'popularity_export/popularity_export'):\n",
    "    rh_vol = pd.read_csv('{}/{}.csv'.format(path,security))\n",
    "    rh_vol.index = pd.to_datetime(rh_vol['timestamp']).dt.date\n",
    "    rh_vol.drop_duplicates(inplace=True,keep = 'first')\n",
    "    rh_vol.drop('timestamp',axis =1,inplace=True)\n",
    "    bars = api.polygon.historic_agg_v2(security,1,'day',_from= rh_vol.index[0],to=datetime.date.today()).df\n",
    "    latest = api.polygon.historic_agg_v2(security,1,'minute',_from= datetime.date.today() - datetime.timedelta(days=5),to=datetime.date.today()).df.iloc[-1]\n",
    "    bars = bars.append(latest)\n",
    "    bars.iloc[-1]['volume'] = np.NaN\n",
    "    bars.index = bars.index.date\n",
    "    merged = bars.join(rh_vol.groupby('timestamp').max()['users_holding'])\n",
    "    merged['rh_vol_pct'] = merged['users_holding']*100/merged['volume']\n",
    "    merged['rh_action'] = merged['users_holding'].copy()*0\n",
    "    rh_trend_up = ((merged['users_holding'] > merged['users_holding'].shift(1)).rolling(trend_window).sum() == trend_window)\n",
    "    price_trend_down = ((merged['open'] < merged['open'].shift(1)).rolling(trend_window).sum() == trend_window)\n",
    "    is_vol_significant = merged['rh_vol_pct'].shift(1) > vol_thresh\n",
    "    merged['rh_action'][rh_trend_up & price_trend_down & is_vol_significant] = 1\n",
    "    if calc_profit:\n",
    "        merged['profit'] = merged['users_holding'].copy()*0\n",
    "        merged['profit'][merged['rh_action'] == 1] = (merged['close'].shift(-trend_window) - merged['open'])/merged['open'] \n",
    "    #print('{} traded {} times, total_profit_pct: {}'.format(security,len(merged[merged['rh_action'] == 1]),merged[merged['rh_action'] == 1]['profit'].sum()))\n",
    "    return merged\n",
    "\n",
    "def normalize_merged(schema,df):\n",
    "    blank_df = pd.DataFrame(0, index=schema.index, columns=list(schema))\n",
    "    blank_df.update(df)\n",
    "    return blank_df\n",
    "\n",
    "# asset = merge_rh_vol_w_barset('AMD')\n",
    "# print(asset[asset['rh_action'] != 0])\n",
    "# print(asset[asset['rh_action'] == 1]['profit'].sum())\n",
    "# fig,ax = plt.subplots()\n",
    "# ax.plot(asset['close'],color ='red')\n",
    "# ax2 = ax.twinx()\n",
    "# ax2.plot(asset['users_holding'])\n",
    "# plt.show()\n"
   ]
  },
  {
   "cell_type": "code",
   "execution_count": null,
   "metadata": {},
   "outputs": [],
   "source": [
    "\n",
    "\n",
    "def robintrack_strat(limit=100):    \n",
    "    asset_data = {}\n",
    "    standard = merge_rh_vol_w_barset('AMZN') # standard barset schema\n",
    "    returns = pd.DataFrame(1, index=standard.index, columns=['returns','num_assets_traded']) \n",
    "    returns['num_assets_traded'] -= 1 \n",
    "    for filename in os.listdir(directory)[:limit]:\n",
    "        security = os.fsdecode(filename).replace('.csv','')\n",
    "        try:\n",
    "            asset_returns = normalize_merged(standard,merge_rh_vol_w_barset(security))\n",
    "        except: \n",
    "            print('{} data not found'.format(security))\n",
    "            continue\n",
    "        returns['returns'] += asset_returns['profit']\n",
    "        returns['num_assets_traded'] += asset_returns['rh_action']\n",
    "        if asset_returns['profit'].sum() > 0: \n",
    "            print('{} traded, net: {}, num trades: {}'.format(security,asset_returns['profit'].sum(),len(asset_returns[asset_returns['profit'] > 0])))\n",
    "            \n",
    "    returns['returns'][returns['num_assets_traded'] > 0] /= returns[returns['num_assets_traded'] > 0]['num_assets_traded']\n",
    "    returns['cum_returns'] = returns['returns'].cumprod()\n",
    "    return returns\n",
    "\n",
    "res = robintrack_strat()\n",
    "fig,ax = plt.subplots()\n",
    "ax.plot(res['cum_returns'],color ='red')\n",
    "ax2 = ax.twinx()\n",
    "ax2.plot(res['returns'].cumsum())\n",
    "print(res)\n",
    "print('cumulative return: {}%, APR: {}%, max_drawdown (approx): {}%, total trades: {}'.format((res['cum_returns'].iloc[-1]-1)*100,(np.sqrt(res['cum_returns'].iloc[-1])-1)*100,(1- res['cum_returns'].min())*100,res['num_assets_traded'].sum()))\n",
    "plt.show()\n"
   ]
  },
  {
   "cell_type": "code",
   "execution_count": null,
   "metadata": {},
   "outputs": [],
   "source": [
    "plt.plot(res['num_assets_traded'])\n",
    "print(res['num_assets_traded'].sum())"
   ]
  },
  {
   "cell_type": "code",
   "execution_count": 6,
   "metadata": {},
   "outputs": [
    {
     "name": "stdout",
     "output_type": "stream",
     "text": [
      "done\n"
     ]
    }
   ],
   "source": [
    "for filename in os.listdir(os.fsencode('popularity_export/popularity_export')):\n",
    "    security = os.fsdecode(filename).replace('.csv','')\n",
    "    if security in alpaca_universe:\n",
    "        try:\n",
    "            asset_returns = merge_rh_vol_w_barset(security)\n",
    "            if asset_returns['rh_action'].iloc[-1] == 1:\n",
    "                print('{} recommendation '.format(security))\n",
    "                print(asset_returns.iloc[-1])\n",
    "        except: \n",
    "            #print('{} data not found'.format(security))\n",
    "            pass\n",
    "print('done')\n",
    "        "
   ]
  },
  {
   "cell_type": "code",
   "execution_count": null,
   "metadata": {},
   "outputs": [],
   "source": [
    "asset = merge_rh_vol_w_barset('MDB')\n",
    "print(asset)\n",
    "print(asset[asset['rh_action'] == 1])"
   ]
  },
  {
   "cell_type": "code",
   "execution_count": null,
   "metadata": {},
   "outputs": [],
   "source": [
    "api.polygon.historic_agg_v2('PSM',1,'minute',_from= datetime.date.today() - datetime.timedelta(days=5),to=datetime.date.today()).df\n",
    "print(api.polygon.last_quote('PSM'))"
   ]
  },
  {
   "cell_type": "code",
   "execution_count": 4,
   "metadata": {},
   "outputs": [],
   "source": [
    "from selenium import webdriver\n",
    "from selenium.webdriver.chrome.options import Options\n",
    "import os\n",
    "import shutil\n",
    "import tarfile\n",
    "from pathlib import Path\n",
    "\n",
    "\n",
    "# function to take care of downloading file\n",
    "def enable_download_headless(browser,download_dir):\n",
    "    browser.command_executor._commands[\"send_command\"] = (\"POST\", '/session/$sessionId/chromium/send_command')\n",
    "    params = {'cmd':'Page.setDownloadBehavior', 'params': {'behavior': 'allow', 'downloadPath': download_dir}}\n",
    "    browser.execute(\"send_command\", params)\n",
    "\n",
    "\n",
    "def dl_robintrack_data(chromedriverpath = \"../chromedriver\",dir_str = 'popularity_export'):\n",
    "    directory = os.fsencode(dir_str)\n",
    "    \n",
    "    if not os.listdir(directory):\n",
    "        os.rmdir(dir_str)\n",
    "    else:   # emptying current data directory\n",
    "        shutil.rmtree(dir_str)\n",
    "    os.mkdir(dir_str)\n",
    "    \n",
    "    chrome_options = Options() # instantiate a chrome options object so you can set the size and headless preference\n",
    "\n",
    "    chrome_options.headless = True\n",
    "    #chrome_options.add_argument(\"--headless\")\n",
    "    # some of these chrome options might be uncessary but I just used a boilerplate\n",
    "    chrome_options.add_argument(\"--window-size=1920x1080\")\n",
    "    chrome_options.add_argument(\"--disable-notifications\")\n",
    "    chrome_options.add_argument('--no-sandbox')\n",
    "    chrome_options.add_argument('--verbose')\n",
    "    chrome_options.add_experimental_option(\"prefs\", {\n",
    "            \"download.default_directory\": dir_str,\n",
    "            \"download.prompt_for_download\": False,\n",
    "            \"download.directory_upgrade\": True,\n",
    "            \"safebrowsing_for_trusted_sources_enabled\": False,\n",
    "            \"safebrowsing.enabled\": False\n",
    "    })\n",
    "    chrome_options.add_argument('--disable-gpu')\n",
    "    chrome_options.add_argument('--disable-software-rasterizer')\n",
    "    # initialize driver object and change the <path_to_chrome_driver> depending on your directory where your chromedriver should be\n",
    "    driver = webdriver.Chrome(options=chrome_options, executable_path= chromedriverpath)\n",
    "    # change the <path_to_place_downloaded_file> to your directory where you would like to place the downloaded file\n",
    "    download_dir = dir_str\n",
    "    # function to handle setting up headless download\n",
    "    enable_download_headless(driver, download_dir)\n",
    "    # get request to target the site selenium is active on\n",
    "    driver.get(\"http://robintrack.net/data-download\")\n",
    "    # initialize an object to the location on the html page and click on it to download\n",
    "    search_input = driver.find_element_by_xpath('//*[@id=\"root\"]/div/div[2]/div/a')\n",
    "    search_input.click()\n",
    "    while not os.listdir(directory):\n",
    "        time.sleep(1)\n",
    "    fname = os.fsdecode(os.listdir(directory)[0])\n",
    "    while not fname.endswith('tar.gz'):\n",
    "        time.sleep(1)\n",
    "        fname = os.fsdecode(os.listdir(directory)[0])\n",
    "\n",
    "    fname = dir_str + '/' + fname\n",
    "    tar = tarfile.open(fname, \"r:gz\")\n",
    "    tar.extractall(path = dir_str)\n",
    "    tar.close()\n",
    "    os.remove(fname)\n",
    "\n",
    "    shutil.move(dir_str + '/tmp/popularity_export',dir_str)\n",
    "    shutil.rmtree('popularity_export/tmp')\n",
    "    print('done')\n",
    "    return 1\n"
   ]
  },
  {
   "cell_type": "code",
   "execution_count": 5,
   "metadata": {},
   "outputs": [
    {
     "name": "stdout",
     "output_type": "stream",
     "text": [
      "done\n"
     ]
    },
    {
     "data": {
      "text/plain": [
       "1"
      ]
     },
     "execution_count": 5,
     "metadata": {},
     "output_type": "execute_result"
    }
   ],
   "source": [
    "dl_robintrack_data()"
   ]
  },
  {
   "cell_type": "code",
   "execution_count": 13,
   "metadata": {},
   "outputs": [
    {
     "data": {
      "text/html": [
       "<div>\n",
       "<style scoped>\n",
       "    .dataframe tbody tr th:only-of-type {\n",
       "        vertical-align: middle;\n",
       "    }\n",
       "\n",
       "    .dataframe tbody tr th {\n",
       "        vertical-align: top;\n",
       "    }\n",
       "\n",
       "    .dataframe thead th {\n",
       "        text-align: right;\n",
       "    }\n",
       "</style>\n",
       "<table border=\"1\" class=\"dataframe\">\n",
       "  <thead>\n",
       "    <tr style=\"text-align: right;\">\n",
       "      <th></th>\n",
       "      <th>timestamp</th>\n",
       "      <th>users_holding</th>\n",
       "    </tr>\n",
       "  </thead>\n",
       "  <tbody>\n",
       "    <tr>\n",
       "      <th>0</th>\n",
       "      <td>2018-05-02 04:53:46</td>\n",
       "      <td>150785</td>\n",
       "    </tr>\n",
       "    <tr>\n",
       "      <th>1</th>\n",
       "      <td>2018-05-02 06:38:58</td>\n",
       "      <td>150785</td>\n",
       "    </tr>\n",
       "    <tr>\n",
       "      <th>2</th>\n",
       "      <td>2018-05-03 00:35:25</td>\n",
       "      <td>145510</td>\n",
       "    </tr>\n",
       "    <tr>\n",
       "      <th>3</th>\n",
       "      <td>2018-05-03 06:33:53</td>\n",
       "      <td>145510</td>\n",
       "    </tr>\n",
       "    <tr>\n",
       "      <th>4</th>\n",
       "      <td>2018-05-03 06:48:56</td>\n",
       "      <td>145510</td>\n",
       "    </tr>\n",
       "    <tr>\n",
       "      <th>...</th>\n",
       "      <td>...</td>\n",
       "      <td>...</td>\n",
       "    </tr>\n",
       "    <tr>\n",
       "      <th>17777</th>\n",
       "      <td>2020-06-17 03:47:53</td>\n",
       "      <td>436450</td>\n",
       "    </tr>\n",
       "    <tr>\n",
       "      <th>17778</th>\n",
       "      <td>2020-06-17 04:47:24</td>\n",
       "      <td>436450</td>\n",
       "    </tr>\n",
       "    <tr>\n",
       "      <th>17779</th>\n",
       "      <td>2020-06-17 05:47:21</td>\n",
       "      <td>436450</td>\n",
       "    </tr>\n",
       "    <tr>\n",
       "      <th>17780</th>\n",
       "      <td>2020-06-17 06:47:42</td>\n",
       "      <td>436395</td>\n",
       "    </tr>\n",
       "    <tr>\n",
       "      <th>17781</th>\n",
       "      <td>2020-06-17 07:47:18</td>\n",
       "      <td>436395</td>\n",
       "    </tr>\n",
       "  </tbody>\n",
       "</table>\n",
       "<p>17782 rows × 2 columns</p>\n",
       "</div>"
      ],
      "text/plain": [
       "                 timestamp  users_holding\n",
       "0      2018-05-02 04:53:46         150785\n",
       "1      2018-05-02 06:38:58         150785\n",
       "2      2018-05-03 00:35:25         145510\n",
       "3      2018-05-03 06:33:53         145510\n",
       "4      2018-05-03 06:48:56         145510\n",
       "...                    ...            ...\n",
       "17777  2020-06-17 03:47:53         436450\n",
       "17778  2020-06-17 04:47:24         436450\n",
       "17779  2020-06-17 05:47:21         436450\n",
       "17780  2020-06-17 06:47:42         436395\n",
       "17781  2020-06-17 07:47:18         436395\n",
       "\n",
       "[17782 rows x 2 columns]"
      ]
     },
     "execution_count": 13,
     "metadata": {},
     "output_type": "execute_result"
    }
   ],
   "source": [
    "pd.read_csv('popularity_export/popularity_export/AAPL.csv')"
   ]
  },
  {
   "cell_type": "code",
   "execution_count": null,
   "metadata": {},
   "outputs": [],
   "source": []
  }
 ],
 "metadata": {
  "kernelspec": {
   "display_name": "Python 3",
   "language": "python",
   "name": "python3"
  },
  "language_info": {
   "codemirror_mode": {
    "name": "ipython",
    "version": 3
   },
   "file_extension": ".py",
   "mimetype": "text/x-python",
   "name": "python",
   "nbconvert_exporter": "python",
   "pygments_lexer": "ipython3",
   "version": "3.7.6"
  }
 },
 "nbformat": 4,
 "nbformat_minor": 4
}
