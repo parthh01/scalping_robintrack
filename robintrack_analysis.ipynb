{
 "cells": [
  {
   "cell_type": "code",
   "execution_count": 1,
   "metadata": {},
   "outputs": [],
   "source": [
    "import pandas as pd \n",
    "import os\n",
    "from config import * \n",
    "import matplotlib.pyplot as plt \n",
    "import datetime\n",
    "import numpy as np "
   ]
  },
  {
   "cell_type": "code",
   "execution_count": 2,
   "metadata": {},
   "outputs": [],
   "source": [
    "\n",
    "\n",
    "def merge_rh_vol_w_barset(security,calc_profit = True,trend_window = 4,vol_thresh = 0):\n",
    "    rh_vol = pd.read_csv('popularity_export/{}.csv'.format(security))\n",
    "    rh_vol.index = pd.to_datetime(rh_vol['timestamp']).dt.date\n",
    "    rh_vol.drop_duplicates(inplace=True,keep = 'first')\n",
    "    rh_vol.drop('timestamp',axis =1,inplace=True)\n",
    "    bars = api.polygon.historic_agg_v2(security,1,'day',_from= rh_vol.index[0],to=datetime.date.today()).df\n",
    "    latest = api.polygon.historic_agg_v2(security,1,'minute',_from= datetime.date.today() - datetime.timedelta(days=5),to=datetime.date.today()).df.iloc[-1]\n",
    "    bars = bars.append(latest)\n",
    "    bars.iloc[-1]['volume'] = np.NaN\n",
    "    bars.index = bars.index.date\n",
    "    merged = bars.join(rh_vol.groupby('timestamp').max()['users_holding'])\n",
    "    merged['rh_vol_pct'] = merged['users_holding']*100/merged['volume']\n",
    "    merged['rh_action'] = merged['users_holding'].copy()*0\n",
    "    rh_trend_up = ((merged['users_holding'] > merged['users_holding'].shift(1)).rolling(trend_window).sum() == trend_window)\n",
    "    price_trend_down = ((merged['open'] < merged['open'].shift(1)).rolling(trend_window).sum() == trend_window)\n",
    "    is_vol_significant = merged['rh_vol_pct'].shift(1) > vol_thresh\n",
    "    merged['rh_action'][rh_trend_up & price_trend_down & is_vol_significant] = 1\n",
    "    if calc_profit:\n",
    "        merged['profit'] = merged['users_holding'].copy()*0\n",
    "        merged['profit'][merged['rh_action'] == 1] = (merged['close'].shift(-trend_window) - merged['open'])/merged['open'] \n",
    "    #print('{} traded {} times, total_profit_pct: {}'.format(security,len(merged[merged['rh_action'] == 1]),merged[merged['rh_action'] == 1]['profit'].sum()))\n",
    "    return merged\n",
    "\n",
    "def normalize_merged(schema,df):\n",
    "    blank_df = pd.DataFrame(0, index=schema.index, columns=list(schema))\n",
    "    blank_df.update(df)\n",
    "    return blank_df\n",
    "\n",
    "# asset = merge_rh_vol_w_barset('AMD')\n",
    "# print(asset[asset['rh_action'] != 0])\n",
    "# print(asset[asset['rh_action'] == 1]['profit'].sum())\n",
    "# fig,ax = plt.subplots()\n",
    "# ax.plot(asset['close'],color ='red')\n",
    "# ax2 = ax.twinx()\n",
    "# ax2.plot(asset['users_holding'])\n",
    "# plt.show()\n"
   ]
  },
  {
   "cell_type": "code",
   "execution_count": 7,
   "metadata": {},
   "outputs": [
    {
     "name": "stderr",
     "output_type": "stream",
     "text": [
      "/Users/parthbhagat/opt/miniconda3/lib/python3.7/site-packages/ipykernel_launcher.py:9: SettingWithCopyWarning: \n",
      "A value is trying to be set on a copy of a slice from a DataFrame\n",
      "\n",
      "See the caveats in the documentation: https://pandas.pydata.org/pandas-docs/stable/user_guide/indexing.html#returning-a-view-versus-a-copy\n",
      "  if __name__ == '__main__':\n"
     ]
    },
    {
     "name": "stdout",
     "output_type": "stream",
     "text": [
      "CSCO traded, net: 0.031516674059347216, num trades: 4\n",
      "PRI traded, net: 0.42841496396903506, num trades: 2\n",
      "SLIM data not found\n",
      "BIOS data not found\n",
      "NZF traded, net: 0.005590496156533897, num trades: 1\n",
      "CSUAY data not found\n",
      "MQBKY data not found\n",
      "UNT data not found\n",
      "SPXB traded, net: 0.003497383956800313, num trades: 1\n",
      "HUBS traded, net: 0.03655040182888356, num trades: 1\n",
      "PSM data not found\n",
      "ZURVY data not found\n",
      "SBGI traded, net: 0.637722026495926, num trades: 4\n",
      "PWCDF data not found\n",
      "SITC traded, net: 0.8747149753895991, num trades: 2\n",
      "PPA traded, net: 0.01298274445357435, num trades: 1\n",
      "XOXO data not found\n",
      "CARO data not found\n",
      "AEIS traded, net: 0.056307631940357164, num trades: 1\n",
      "UAL traded, net: 0.1257326159810278, num trades: 5\n",
      "TROW traded, net: 0.12494861738303381, num trades: 3\n",
      "ISRG traded, net: 0.10428934871541919, num trades: 3\n",
      "QDIV traded, net: 0.08151041666666674, num trades: 1\n",
      "EFC traded, net: 1.7368251084872337, num trades: 2\n"
     ]
    },
    {
     "name": "stderr",
     "output_type": "stream",
     "text": [
      "/Users/parthbhagat/opt/miniconda3/lib/python3.7/site-packages/ipykernel_launcher.py:17: SettingWithCopyWarning: \n",
      "A value is trying to be set on a copy of a slice from a DataFrame\n",
      "\n",
      "See the caveats in the documentation: https://pandas.pydata.org/pandas-docs/stable/user_guide/indexing.html#returning-a-view-versus-a-copy\n",
      "/Users/parthbhagat/opt/miniconda3/lib/python3.7/site-packages/ipykernel_launcher.py:20: SettingWithCopyWarning: \n",
      "A value is trying to be set on a copy of a slice from a DataFrame\n",
      "\n",
      "See the caveats in the documentation: https://pandas.pydata.org/pandas-docs/stable/user_guide/indexing.html#returning-a-view-versus-a-copy\n"
     ]
    },
    {
     "name": "stdout",
     "output_type": "stream",
     "text": [
      "EEX traded, net: 0.37585424440077086, num trades: 3\n"
     ]
    },
    {
     "name": "stderr",
     "output_type": "stream",
     "text": [
      "/Users/parthbhagat/opt/miniconda3/lib/python3.7/site-packages/ipykernel_launcher.py:9: SettingWithCopyWarning: \n",
      "A value is trying to be set on a copy of a slice from a DataFrame\n",
      "\n",
      "See the caveats in the documentation: https://pandas.pydata.org/pandas-docs/stable/user_guide/indexing.html#returning-a-view-versus-a-copy\n",
      "  if __name__ == '__main__':\n"
     ]
    },
    {
     "name": "stdout",
     "output_type": "stream",
     "text": [
      "NVR traded, net: 0.763067183972684, num trades: 4\n",
      "TLRY traded, net: 1.2312246917342429, num trades: 3\n",
      "LECO traded, net: 0.01121904501299758, num trades: 1\n"
     ]
    },
    {
     "name": "stderr",
     "output_type": "stream",
     "text": [
      "/Users/parthbhagat/opt/miniconda3/lib/python3.7/site-packages/ipykernel_launcher.py:17: SettingWithCopyWarning: \n",
      "A value is trying to be set on a copy of a slice from a DataFrame\n",
      "\n",
      "See the caveats in the documentation: https://pandas.pydata.org/pandas-docs/stable/user_guide/indexing.html#returning-a-view-versus-a-copy\n",
      "/Users/parthbhagat/opt/miniconda3/lib/python3.7/site-packages/ipykernel_launcher.py:20: SettingWithCopyWarning: \n",
      "A value is trying to be set on a copy of a slice from a DataFrame\n",
      "\n",
      "See the caveats in the documentation: https://pandas.pydata.org/pandas-docs/stable/user_guide/indexing.html#returning-a-view-versus-a-copy\n"
     ]
    },
    {
     "name": "stdout",
     "output_type": "stream",
     "text": [
      "ALTG traded, net: 0.2713479982466496, num trades: 3\n",
      "RPT traded, net: 0.14342629482071728, num trades: 1\n",
      "VCYT traded, net: 0.04070959963935744, num trades: 1\n",
      "OIIL data not found\n"
     ]
    },
    {
     "name": "stderr",
     "output_type": "stream",
     "text": [
      "/Users/parthbhagat/opt/miniconda3/lib/python3.7/site-packages/ipykernel_launcher.py:9: SettingWithCopyWarning: \n",
      "A value is trying to be set on a copy of a slice from a DataFrame\n",
      "\n",
      "See the caveats in the documentation: https://pandas.pydata.org/pandas-docs/stable/user_guide/indexing.html#returning-a-view-versus-a-copy\n",
      "  if __name__ == '__main__':\n"
     ]
    },
    {
     "name": "stdout",
     "output_type": "stream",
     "text": [
      "PLOW traded, net: 0.23097014925373138, num trades: 1\n"
     ]
    },
    {
     "name": "stderr",
     "output_type": "stream",
     "text": [
      "/Users/parthbhagat/opt/miniconda3/lib/python3.7/site-packages/ipykernel_launcher.py:17: SettingWithCopyWarning: \n",
      "A value is trying to be set on a copy of a slice from a DataFrame\n",
      "\n",
      "See the caveats in the documentation: https://pandas.pydata.org/pandas-docs/stable/user_guide/indexing.html#returning-a-view-versus-a-copy\n",
      "/Users/parthbhagat/opt/miniconda3/lib/python3.7/site-packages/ipykernel_launcher.py:20: SettingWithCopyWarning: \n",
      "A value is trying to be set on a copy of a slice from a DataFrame\n",
      "\n",
      "See the caveats in the documentation: https://pandas.pydata.org/pandas-docs/stable/user_guide/indexing.html#returning-a-view-versus-a-copy\n"
     ]
    },
    {
     "name": "stdout",
     "output_type": "stream",
     "text": [
      "BUD traded, net: 0.0979575417967595, num trades: 8\n",
      "HVT.A data not found\n",
      "GDI data not found\n",
      "PDS traded, net: 0.08399789189733134, num trades: 2\n",
      "BLDP traded, net: 0.13941690120516706, num trades: 2\n",
      "NOG traded, net: 1.597099536680619, num trades: 6\n",
      "SWGAY data not found\n",
      "BXC traded, net: 0.8679147812843748, num trades: 3\n",
      "SMCAY data not found\n",
      "TTNDY data not found\n",
      "             returns  num_assets_traded   cum_returns\n",
      "2018-05-02  1.000000                0.0  1.000000e+00\n",
      "2018-05-03  1.000000                0.0  1.000000e+00\n",
      "2018-05-04  1.000000                0.0  1.000000e+00\n",
      "2018-05-07  1.000000                0.0  1.000000e+00\n",
      "2018-05-08  1.000000                0.0  1.000000e+00\n",
      "...              ...                ...           ...\n",
      "2020-06-03  1.592105                1.0  7.953707e-11\n",
      "2020-06-04  1.000000                0.0  7.953707e-11\n",
      "2020-06-05  1.000000                0.0  7.953707e-11\n",
      "2020-06-08  1.000000                0.0  7.953707e-11\n",
      "2020-06-09  1.000000                0.0  7.953707e-11\n",
      "\n",
      "[530 rows x 3 columns]\n",
      "cumulative return: -99.9999999920463%, APR: -99.99910816439488%, max_drawdown (approx): 99.99999999690742%, total trades: 154.0\n"
     ]
    },
    {
     "data": {
      "image/png": "[encoded data removed]",
      "text/plain": [
       "<Figure size 432x288 with 2 Axes>"
      ]
     },
     "metadata": {
      "needs_background": "light"
     },
     "output_type": "display_data"
    }
   ],
   "source": [
    "directory = os.fsencode('popularity_export')\n",
    "\n",
    "def robintrack_strat(limit=100):    \n",
    "    asset_data = {}\n",
    "    standard = merge_rh_vol_w_barset('AMZN') # standard barset schema\n",
    "    returns = pd.DataFrame(1, index=standard.index, columns=['returns','num_assets_traded']) \n",
    "    returns['num_assets_traded'] -= 1 \n",
    "    for filename in os.listdir(directory)[:limit]:\n",
    "        security = os.fsdecode(filename).replace('.csv','')\n",
    "        try:\n",
    "            asset_returns = normalize_merged(standard,merge_rh_vol_w_barset(security))\n",
    "        except: \n",
    "            print('{} data not found'.format(security))\n",
    "            continue\n",
    "        returns['returns'] += asset_returns['profit']\n",
    "        returns['num_assets_traded'] += asset_returns['rh_action']\n",
    "        if asset_returns['profit'].sum() > 0: \n",
    "            print('{} traded, net: {}, num trades: {}'.format(security,asset_returns['profit'].sum(),len(asset_returns[asset_returns['profit'] > 0])))\n",
    "            \n",
    "    returns['returns'][returns['num_assets_traded'] > 0] /= returns[returns['num_assets_traded'] > 0]['num_assets_traded']\n",
    "    returns['cum_returns'] = returns['returns'].cumprod()\n",
    "    return returns\n",
    "\n",
    "res = robintrack_strat()\n",
    "fig,ax = plt.subplots()\n",
    "ax.plot(res['cum_returns'],color ='red')\n",
    "ax2 = ax.twinx()\n",
    "ax2.plot(res['returns'].cumsum())\n",
    "print(res)\n",
    "print('cumulative return: {}%, APR: {}%, max_drawdown (approx): {}%, total trades: {}'.format((res['cum_returns'].iloc[-1]-1)*100,(np.sqrt(res['cum_returns'].iloc[-1])-1)*100,(1- res['cum_returns'].min())*100,res['num_assets_traded'].sum()))\n",
    "plt.show()\n"
   ]
  },
  {
   "cell_type": "code",
   "execution_count": 4,
   "metadata": {},
   "outputs": [
    {
     "name": "stdout",
     "output_type": "stream",
     "text": [
      "154.0\n"
     ]
    },
    {
     "data": {
      "image/png": "[encoded data removed]",
      "text/plain": [
       "<Figure size 432x288 with 1 Axes>"
      ]
     },
     "metadata": {
      "needs_background": "light"
     },
     "output_type": "display_data"
    }
   ],
   "source": [
    "plt.plot(res['num_assets_traded'])\n",
    "print(res['num_assets_traded'].sum())"
   ]
  },
  {
   "cell_type": "code",
   "execution_count": null,
   "metadata": {},
   "outputs": [],
   "source": [
    "for filename in os.listdir(directory):\n",
    "    security = os.fsdecode(filename).replace('.csv','')\n",
    "    try:\n",
    "        asset_returns = merge_rh_vol_w_barset(security)\n",
    "        if asset_returns['rh_action'].iloc[-1] == 1:\n",
    "            print('{} recommendation '.format(security))\n",
    "            print(asset_returns.iloc[-1])\n",
    "    except: \n",
    "        #print('{} data not found'.format(security))\n",
    "        pass\n",
    "print('done')\n",
    "        "
   ]
  },
  {
   "cell_type": "code",
   "execution_count": null,
   "metadata": {},
   "outputs": [],
   "source": [
    "asset = merge_rh_vol_w_barset('CSCO')\n",
    "print(asset[asset['rh_action'] == 1])\n",
    "print(asset['rh_action'].sum())"
   ]
  },
  {
   "cell_type": "code",
   "execution_count": null,
   "metadata": {},
   "outputs": [],
   "source": [
    "api.polygon.historic_agg_v2('PSM',1,'minute',_from= datetime.date.today() - datetime.timedelta(days=5),to=datetime.date.today()).df\n",
    "print(api.polygon.last_quote('PSM'))"
   ]
  },
  {
   "cell_type": "code",
   "execution_count": null,
   "metadata": {},
   "outputs": [],
   "source": []
  }
 ],
 "metadata": {
  "kernelspec": {
   "display_name": "Python 3",
   "language": "python",
   "name": "python3"
  },
  "language_info": {
   "codemirror_mode": {
    "name": "ipython",
    "version": 3
   },
   "file_extension": ".py",
   "mimetype": "text/x-python",
   "name": "python",
   "nbconvert_exporter": "python",
   "pygments_lexer": "ipython3",
   "version": "3.7.6"
  }
 },
 "nbformat": 4,
 "nbformat_minor": 4
}
