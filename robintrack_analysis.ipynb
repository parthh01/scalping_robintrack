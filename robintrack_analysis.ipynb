{
 "cells": [
  {
   "cell_type": "code",
   "execution_count": 2,
   "metadata": {},
   "outputs": [],
   "source": [
    "import pandas as pd \n",
    "import os\n",
    "from config import * \n",
    "import matplotlib.pyplot as plt \n",
    "import datetime\n",
    "import numpy as np "
   ]
  },
  {
   "cell_type": "code",
   "execution_count": 3,
   "metadata": {},
   "outputs": [],
   "source": [
    "trend_window = 4\n",
    "\n",
    "def merge_rh_vol_w_barset(security):\n",
    "    rh_vol = pd.read_csv('popularity_export/{}.csv'.format(security))\n",
    "    rh_vol.index = pd.to_datetime(rh_vol['timestamp']).dt.date\n",
    "    rh_vol.drop('timestamp',axis =1,inplace=True)\n",
    "    rh_vol.drop_duplicates(inplace=True)\n",
    "    bars = api.polygon.historic_agg_v2(security,1,'day',_from= rh_vol.index[0],to=datetime.date.today()).df\n",
    "    bars.index = bars.index.date\n",
    "    merged = bars.join(rh_vol.groupby('timestamp').max()['users_holding'])\n",
    "    merged['rh_vol_pct'] = merged['users_holding']*100/merged['volume']\n",
    "    merged['rh_action'] = merged['users_holding'].copy()*0\n",
    "    rh_trend_up = ((merged['users_holding'] > merged['users_holding'].shift(1)).rolling(trend_window).sum() == trend_window)\n",
    "    price_trend_down = ((merged['open'] < merged['open'].shift(1)).rolling(trend_window).sum() == trend_window)\n",
    "    merged['rh_action'][rh_trend_up & price_trend_down] = 1\n",
    "    merged['profit'] = merged['users_holding'].copy()*0\n",
    "    merged['profit'][merged['rh_action'] == 1] = (merged['close'].shift(-trend_window) - merged['open'])/merged['open']\n",
    "    #print('{} traded {} times, total_profit_pct: {}'.format(security,len(merged[merged['rh_action'] == 1]),merged[merged['rh_action'] == 1]['profit'].sum()))\n",
    "    return merged\n",
    "\n",
    "def normalize_merged(schema,df):\n",
    "    blank_df = pd.DataFrame(0, index=schema.index, columns=list(schema))\n",
    "    blank_df.update(df)\n",
    "    return blank_df\n",
    "\n",
    "# asset = merge_rh_vol_w_barset('AMD')\n",
    "# print(asset[asset['rh_action'] != 0])\n",
    "# print(asset[asset['rh_action'] == 1]['profit'].sum())\n",
    "# fig,ax = plt.subplots()\n",
    "# ax.plot(asset['close'],color ='red')\n",
    "# ax2 = ax.twinx()\n",
    "# ax2.plot(asset['users_holding'])\n",
    "# plt.show()\n"
   ]
  },
  {
   "cell_type": "code",
   "execution_count": 23,
   "metadata": {},
   "outputs": [
    {
     "name": "stderr",
     "output_type": "stream",
     "text": [
      "/Users/parthbhagat/opt/miniconda3/lib/python3.7/site-packages/ipykernel_launcher.py:15: SettingWithCopyWarning: \n",
      "A value is trying to be set on a copy of a slice from a DataFrame\n",
      "\n",
      "See the caveats in the documentation: https://pandas.pydata.org/pandas-docs/stable/user_guide/indexing.html#returning-a-view-versus-a-copy\n",
      "  from ipykernel import kernelapp as app\n",
      "/Users/parthbhagat/opt/miniconda3/lib/python3.7/site-packages/ipykernel_launcher.py:17: SettingWithCopyWarning: \n",
      "A value is trying to be set on a copy of a slice from a DataFrame\n",
      "\n",
      "See the caveats in the documentation: https://pandas.pydata.org/pandas-docs/stable/user_guide/indexing.html#returning-a-view-versus-a-copy\n",
      "/Users/parthbhagat/opt/miniconda3/lib/python3.7/site-packages/ipykernel_launcher.py:12: SettingWithCopyWarning: \n",
      "A value is trying to be set on a copy of a slice from a DataFrame.\n",
      "Try using .loc[row_indexer,col_indexer] = value instead\n",
      "\n",
      "See the caveats in the documentation: https://pandas.pydata.org/pandas-docs/stable/user_guide/indexing.html#returning-a-view-versus-a-copy\n",
      "  if sys.path[0] == '':\n"
     ]
    },
    {
     "name": "stdout",
     "output_type": "stream",
     "text": [
      "CSCO traded, net: 0.031516674059347216, num trades: 4\n",
      "PRI traded, net: 0.42952486890195446, num trades: 1\n",
      "CSUAY data not found\n",
      "MQBKY data not found\n",
      "ZURVY data not found\n",
      "PWCDF data not found\n",
      "SITC traded, net: 0.8747149753895991, num trades: 2\n",
      "UAL traded, net: 0.01461791675300822, num trades: 2\n",
      "TROW traded, net: 0.15377604271538117, num trades: 2\n",
      "EFC traded, net: 1.7368251084872337, num trades: 2\n",
      "EEX traded, net: 0.34181169120928145, num trades: 2\n",
      "TLRY traded, net: 1.2312246917342429, num trades: 3\n",
      "ALTG traded, net: 0.23387727225133342, num trades: 2\n",
      "RPT traded, net: 0.14342629482071728, num trades: 1\n",
      "PLOW traded, net: 0.23097014925373138, num trades: 1\n",
      "ERF traded, net: 0.1610619469026547, num trades: 1\n",
      "UVE traded, net: 0.06823394495412831, num trades: 1\n",
      "BUD traded, net: 0.10025476469709907, num trades: 8\n",
      "PDS traded, net: 0.15914276766140215, num trades: 2\n",
      "BLDP traded, net: 0.0655913978494623, num trades: 1\n",
      "NOG traded, net: 0.3350252303990757, num trades: 3\n",
      "SWGAY data not found\n",
      "SMCAY data not found\n",
      "TTNDY data not found\n",
      "cumulative return: 87.50878364286551%, APR: 29.58188358486753%, max_drawdown (approx): 13.323725447405828%\n"
     ]
    },
    {
     "data": {
      "image/png": "[encoded data removed]",
      "text/plain": [
       "<Figure size 432x288 with 1 Axes>"
      ]
     },
     "metadata": {
      "needs_background": "light"
     },
     "output_type": "display_data"
    }
   ],
   "source": [
    "directory = os.fsencode('popularity_export')\n",
    "\n",
    "def robintrack_strat():    \n",
    "    asset_data = {}\n",
    "    standard = merge_rh_vol_w_barset('AMZN')\n",
    "    returns = pd.DataFrame(1, index=standard.index, columns=['returns','num_assets_traded']) \n",
    "    for filename in os.listdir(directory)[:100]:\n",
    "        security = os.fsdecode(filename).replace('.csv','')\n",
    "        try:\n",
    "            asset_returns = normalize_merged(standard,merge_rh_vol_w_barset(security))\n",
    "            returns['returns'] += asset_returns['profit']\n",
    "            returns[asset_returns['profit'] != 0]['num_assets_traded'] += 1\n",
    "            if asset_returns['profit'].sum() > 0: \n",
    "                print('{} traded, net: {}, num trades: {}'.format(security,asset_returns['profit'].sum(),len(asset_returns[asset_returns['profit'] > 0])))\n",
    "        except: \n",
    "            print('{} data not found'.format(security))\n",
    "    returns['returns'] /= returns['num_assets_traded']\n",
    "    returns['cum_returns'] = returns['returns'].cumprod()\n",
    "    return returns\n",
    "\n",
    "res = robintrack_strat()\n",
    "fig,ax = plt.subplots()\n",
    "ax.plot(res['cum_returns'],color ='red')\n",
    "#ax2 = ax.twinx()\n",
    "#ax2.plot(res['num_assets_traded'])\n",
    "print(res)\n",
    "print('cumulative return: {}%, APR: {}%, max_drawdown (approx): {}%'.format(res['cum_returns'].iloc[-1]*10,np.sqrt(res['cum_returns'].iloc[-1])*10,(res['cum_returns'].max() - res['cum_returns'].iloc[-1])*10))\n",
    "plt.show()\n"
   ]
  },
  {
   "cell_type": "code",
   "execution_count": 15,
   "metadata": {},
   "outputs": [
    {
     "name": "stdout",
     "output_type": "stream",
     "text": [
      "             open   high    low  close     volume  users_holding  rh_vol_pct  \\\n",
      "2020-01-23  18.35  18.51  18.33  18.43   782155.0          393.0    0.050246   \n",
      "2020-04-03   4.05   4.06   3.68   3.90  1185270.0         1197.0    0.100990   \n",
      "\n",
      "            rh_action    profit  \n",
      "2020-01-23        1.0  0.010899  \n",
      "2020-04-03        1.0  1.725926  \n"
     ]
    }
   ],
   "source": [
    "asset_returns = merge_rh_vol_w_barset('EFC')\n",
    "print(asset_returns[asset_returns['rh_action'] == 1])"
   ]
  },
  {
   "cell_type": "code",
   "execution_count": null,
   "metadata": {},
   "outputs": [],
   "source": []
  }
 ],
 "metadata": {
  "kernelspec": {
   "display_name": "Python 3",
   "language": "python",
   "name": "python3"
  },
  "language_info": {
   "codemirror_mode": {
    "name": "ipython",
    "version": 3
   },
   "file_extension": ".py",
   "mimetype": "text/x-python",
   "name": "python",
   "nbconvert_exporter": "python",
   "pygments_lexer": "ipython3",
   "version": "3.7.6"
  }
 },
 "nbformat": 4,
 "nbformat_minor": 4
}
