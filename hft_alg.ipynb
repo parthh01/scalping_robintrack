{
 "cells": [
  {
   "cell_type": "code",
   "execution_count": 80,
   "metadata": {},
   "outputs": [],
   "source": [
    "from config import *\n",
    "#from alpaca_trade_api import StreamConn\n",
    "import websocket, json, asyncio, time\n",
    "import numpy as np\n",
    "import pandas as pd\n",
    "import matplotlib.pyplot as plt\n",
    "from statsmodels.tsa.stattools import adfuller,kpss"
   ]
  },
  {
   "attachments": {},
   "cell_type": "markdown",
   "metadata": {},
   "source": [
    "<h1> The Strategy: </h1> \n",
    "<p> The strategy chooses a high volume mean reverting stock(using ADF and KPSS) from the previous day's quote data and trains an NN to determine the mean price change within the next time step, if the delta change is above threshold, buy/sell accordingly. Trading occurs during specific windows: 9am to 11:00 pm and  1pm to 3pm</p>\n",
    "\n",
    "<h4> Correction: Trade SPY by default</h4>\n",
    "\n",
    "<ol> \n",
    "    <strong> Logic </strong> \n",
    "    <li>loop through high volume stocks list: determine stationarity via ADF and KPSS. Then determine backtested accuracy of NN forecasting mean price change within forecast window (on validation set)   </li>\n",
    "    <li> during trading hours: monitor and forecast price change with every new incoming quote, if abs(mean price change) > 0.2 ticks, buy/sell with take profit accordingly </li> \n",
    "    <li> close any open positions at end of trading session </li> \n",
    "    \n",
    "</ol>\n",
    "\n",
    "<ul> <strong>  NN Architecture: </strong> \n",
    "    <li> hyperparameters:- forecast window: k,lag window L, neurons, LSTM/FC layers (previous n days data (n = 2)  </li> \n",
    "    <li> X :-  (m x 3) features: 1. rolling_sum(oi/bid_ask_spread) over lag window, 2. rolling_sum(oir/bid_ask_spread), 3. mpb/bid_ask_spread </li> \n",
    "    <li> Y :- (1 x m) forecast price over forecast window </li> \n",
    "</ul> \n",
    "\n",
    "\n",
    "reference: https://pdfs.semanticscholar.org/cf7e/9d9960be215cbc5a0b9f39d4c50879568be3.pdf\n",
    "\n",
    "<h2> Formulas: </h2>\n",
    "\n",
    "\n",
    "Order Imbalance as: \n",
    "\n",
    "<img src=\"images/voi_imbalance.png\" width=\"500\"/>\n",
    "\n",
    "Measure Volume Order imbalance ratio as: \n",
    "\n",
    "<img src=\"images/oir.png\" width=\"200\"/>\n",
    "\n",
    "Develop Linear Model from previous Day's prices with: \n",
    "<img src=\"images/linear_model.png\" width=\"500\"/>\n",
    "\n",
    "mean price basis \n",
    "<img src=\"images/mpb.png\" width=\"500\"/>\n",
    "<img src=\"images/mpb_explanation.png\" width=\"500\"/>\n",
    "\n",
    "Average Trade Price: \n",
    "<img src=\"images/tp.png\" width=\"500\"/>\n",
    "\n",
    "<p> <strong> Important note: volume is cumulative volume </strong> </p>\n",
    "\n",
    "default values for linear model: K= 20, L=5 \n",
    "\n"
   ]
  },
  {
   "cell_type": "code",
   "execution_count": null,
   "metadata": {},
   "outputs": [],
   "source": [
    "\n",
    "\n",
    "def on_open(ws):\n",
    "    print(\"stream connection opened\")\n",
    "    auth_data = {\n",
    "        \"action\": \"auth\",\n",
    "        \"params\": api_key_id\n",
    "    }\n",
    "\n",
    "    ws.send(json.dumps(auth_data))\n",
    "\n",
    "    channel_data = {\n",
    "        \"action\": \"subscribe\",\n",
    "        \"params\": 'Q.SPY'\n",
    "    }\n",
    "    ws.send(json.dumps(channel_data))\n",
    "    \n",
    "def on_message(ws,data):\n",
    "    data = json.loads(data)\n",
    "    for quote in data:\n",
    "        for key,value in quote.items():\n",
    "            if key == 't': value = time.strftime('%Y-%m-%d %H:%M:%S.%Z', time.localtime(value/1000))\n",
    "            print('{}: {} '.format(key,value))\n",
    "            \n",
    "def on_close(ws):\n",
    "    print('closed streaming_connection')\n",
    "\n",
    "socket = \"wss://alpaca.socket.polygon.io/stocks\"\n",
    "\n",
    "ws = websocket.WebSocketApp(socket, on_open=on_open, on_message=on_message, on_close=on_close)\n",
    "ws.run_forever()"
   ]
  },
  {
   "cell_type": "code",
   "execution_count": null,
   "metadata": {},
   "outputs": [],
   "source": [
    "[{\"ev\":\"Q\",\"sym\":\"AAPL\",\"c\":1,\"bx\":7,\"ax\":19,\"bp\":341.29,\"ap\":341.33,\"bs\":1,\"as\":1,\"t\":1591899904799,\"z\":3},\n",
    " {\"ev\":\"Q\",\"sym\":\"AAPL\",\"c\":1,\"bx\":12,\"ax\":19,\"bp\":341.28,\"ap\":341.33,\"bs\":1,\"as\":1,\"t\":1591899904799,\"z\":3},\n",
    " {\"ev\":\"Q\",\"sym\":\"AAPL\",\"c\":1,\"bx\":19,\"ax\":19,\"bp\":341.27,\"ap\":341.33,\"bs\":2,\"as\":1,\"t\":1591899904799,\"z\":3},\n",
    " {\"ev\":\"Q\",\"sym\":\"AAPL\",\"c\":1,\"bx\":7,\"ax\":19,\"bp\":341.28,\"ap\":341.33,\"bs\":1,\"as\":1,\"t\":1591899904799,\"z\":3}]\n",
    "\n",
    "''' sample quote '''\n",
    "ev: Q #quote \n",
    "sym: SPY #ticker \n",
    "c: 1 # idk\n",
    "bx: 12 # bid exchange \n",
    "ax: 11  #ask exchange \n",
    "bp: 301.52 #bid price\n",
    "ap: 301.54 # ask price \n",
    "bs: 10 #bid size \n",
    "as: 4  #ask size \n",
    "t: 2020-06-11 15:01:55 # time to the nearest second \n",
    "z: 1 # tape ID \n",
    "\n",
    "\n"
   ]
  },
  {
   "cell_type": "code",
   "execution_count": 61,
   "metadata": {},
   "outputs": [],
   "source": [
    "def turnover_and_mtp_data(asset,date):\n",
    "    data =  api.polygon.historic_trades_v2(asset, date).df.drop(\n",
    "    ['participant_timestamp',\n",
    "    'trf_timestamp',\n",
    "    'sequence_number',\n",
    "    'id',\n",
    "    'exchange',\n",
    "    'conditions',\n",
    "    'tape'],\n",
    "    axis=1).rename(columns = {'size': 'vol'})\n",
    "    turnover = pd.DataFrame()\n",
    "    turnover['volume'] = data.vol.resample('1S').sum()\n",
    "    turnover['price'] = data.price.resample('1S').mean()\n",
    "    turnover['turnover'] = turnover['price'] * turnover['volume']\n",
    "    turnover['mtp'] = (turnover['turnover'] - turnover['turnover'].shift(1))/(turnover['volume'] - turnover['volume'].shift(1))\n",
    "    turnover.loc[turnover['volume'] == turnover['volume'].shift(1),'mtp'] = turnover.loc[turnover['volume'] == turnover['volume'].shift(1),'mtp'].shift(1)\n",
    "    return turnover\n",
    "\n",
    "\n",
    "def get_historic_quotes(asset,date):\n",
    "    df = api.polygon.historic_quotes_v2(asset,date).df.sort_index().drop(\n",
    "        ['trf_timestamp',\n",
    "        'sequence_number',\n",
    "        'conditions',\n",
    "        'indicators',\n",
    "        'bid_exchange',\n",
    "        'ask_exchange',\n",
    "        'tape',\n",
    "        'participant_timestamp'], \n",
    "        axis = 1)\n",
    "    #sample_df = df.resample('1min').mean()\n",
    "    #df.index = df.index.strftime('%m/%d/%Y %H:%M:%S')\n",
    "    #sample_df.index = sample_df.index.strftime('%m/%d/%Y %H:%M:%S')\n",
    "    #print(df)\n",
    "    #print(sample_df)\n",
    "    resampled = pd.DataFrame()\n",
    "    resampled['bid_price'] = df.bid_price.resample('1S').mean()\n",
    "    resampled['bid_size'] = df.bid_size.resample('1S').sum()\n",
    "    resampled['ask_price'] = df.ask_price.resample('1S').mean()\n",
    "    resampled['ask_size'] = df.ask_size.resample('1S').sum()\n",
    "    resampled = resampled.join(turnover_and_mtp_data(asset,date)['mtp'])\n",
    "    resampled['mtp'].iloc[0] = (resampled['bid_price'].iloc[0] + resampled['ask_price'].iloc[0])/2 # manuallly set mtp at t=0 \n",
    "    return resampled.dropna()\n",
    "\n",
    "#spy_1 = get_historic_quotes('SPY','2020-06-11')\n",
    "#print(spy_1)\n",
    "\n",
    "\n",
    "\n",
    "\n",
    "def format_training_data(qdf,forecast_window = 20,lag = 5):\n",
    "    #1. rolling_sum(oi/bid_ask_spread) over lag window, 2. rolling_sum(oir/bid_ask_spread), 3. mpb/bid_ask_spread\n",
    "    spread = qdf['ask_price'] - qdf['bid_price']\n",
    "    qdf['dVb'] = qdf['bid_size'].copy()\n",
    "    qdf.loc[qdf['bid_price'] < qdf['bid_price'].shift(1),'dVb'] = 0\n",
    "    qdf.loc[qdf['bid_price'] == qdf['bid_price'].shift(1),'dVb'] = qdf['bid_size'] - qdf['bid_size'].shift(1)\n",
    "    qdf['dVa'] = qdf['ask_size'].copy()\n",
    "    qdf.loc[qdf['ask_price'] > qdf['ask_price'].shift(1),'dVa'] = 0\n",
    "    qdf.loc[qdf['ask_price'] == qdf['ask_price'].shift(1),'dVa'] = qdf['ask_size'] - qdf['ask_size'].shift(1)\n",
    "    imbalance = qdf['dVb'] - qdf['dVa']\n",
    "    mid_price = (qdf['bid_price'] + qdf['ask_price'])/2\n",
    "    mean_price_basis = qdf['mtp'] - 0.5*(mid_price.shift(1) + mid_price)\n",
    "    qdf['mbp'] = mean_price_basis\n",
    "    qdf['imbalance'] = imbalance\n",
    "    ir = (qdf['dVb'] - qdf['dVa'])/(qdf['dVb'] + qdf['dVa'])\n",
    "    qdf['imbalance_over_spread'] = imbalance/spread\n",
    "    qdf['imbalance_ratio_over_spread'] = ir/spread\n",
    "    qdf['mpb_over_spread'] = mean_price_basis/spread\n",
    "    qdf['forecast_mid_price'] = (mid_price.iloc[::-1].rolling(forecast_window).sum() - forecast_window*mid_price)/forecast_window\n",
    "    return qdf.drop(['dVb','dVa','mtp'],axis = 1) # still have to drop the imbalance and mbp before feeeding to NN\n",
    "# og_time = df.index[0]\n",
    "# timestep = 5e4 # 500 milliseconds \n",
    "# og_timestamp = og_time.timestamp()*1000\n",
    "# added_timestamp = og_timestamp \n",
    "# added_time = time.strftime('%m/%d/%Y %H:%M:%S',  time.gmtime(added_timestamp/1000.))\n",
    "\n",
    "#df = api.polygon.historic_quotes_v2('AAPL','2020-06-11')\n",
    "#print(df[-1])"
   ]
  },
  {
   "cell_type": "code",
   "execution_count": 79,
   "metadata": {},
   "outputs": [
    {
     "name": "stdout",
     "output_type": "stream",
     "text": [
      "                            bid_price  bid_size   ask_price  ask_size  \\\n",
      "sip_timestamp                                                           \n",
      "2020-06-08 04:00:21-04:00  318.962727       108  319.060000        32   \n",
      "2020-06-08 04:00:24-04:00  318.983333       125  319.087778        47   \n",
      "2020-06-08 04:01:06-04:00  318.950000         4  319.000000         5   \n",
      "2020-06-08 04:08:57-04:00  319.130000        28  319.180000        30   \n",
      "2020-06-08 04:11:00-04:00  319.160000        13  319.200000         5   \n",
      "...                               ...       ...         ...       ...   \n",
      "2020-06-08 06:26:32-04:00  320.117500        92  320.169375        89   \n",
      "2020-06-08 06:38:25-04:00  320.230000        20  320.286000        48   \n",
      "2020-06-08 06:39:39-04:00  320.411429       110  320.446429        44   \n",
      "2020-06-08 06:39:45-04:00  320.477059       167  320.522941        70   \n",
      "2020-06-08 06:39:53-04:00  320.542222        69  320.588889        67   \n",
      "\n",
      "                                mbp  imbalance  imbalance_over_spread  \\\n",
      "sip_timestamp                                                           \n",
      "2020-06-08 04:00:21-04:00 -0.008626       76.0             781.308411   \n",
      "2020-06-08 04:00:24-04:00 -0.061079      125.0            1196.808511   \n",
      "2020-06-08 04:01:06-04:00 -0.006325       -5.0            -100.000000   \n",
      "2020-06-08 04:08:57-04:00  0.049831       28.0             560.000000   \n",
      "2020-06-08 04:11:00-04:00  0.002828       13.0             325.000000   \n",
      "...                             ...        ...                    ...   \n",
      "2020-06-08 06:26:32-04:00  0.078698       92.0            1773.493976   \n",
      "2020-06-08 06:38:25-04:00      -inf       20.0             357.142857   \n",
      "2020-06-08 06:39:39-04:00  0.027124      110.0            3142.857143   \n",
      "2020-06-08 06:39:45-04:00  0.036588      167.0            3639.743590   \n",
      "2020-06-08 06:39:53-04:00 -0.002778       69.0            1478.571429   \n",
      "\n",
      "                           imbalance_ratio_over_spread  mpb_over_spread  \\\n",
      "sip_timestamp                                                             \n",
      "2020-06-08 04:00:21-04:00                     5.580774        -0.088681   \n",
      "2020-06-08 04:00:24-04:00                     9.574468        -0.584796   \n",
      "2020-06-08 04:01:06-04:00                   -20.000000        -0.126498   \n",
      "2020-06-08 04:08:57-04:00                    20.000000         0.996629   \n",
      "2020-06-08 04:11:00-04:00                    25.000000         0.070697   \n",
      "...                                                ...              ...   \n",
      "2020-06-08 06:26:32-04:00                    19.277108         1.517068   \n",
      "2020-06-08 06:38:25-04:00                    17.857143             -inf   \n",
      "2020-06-08 06:39:39-04:00                    28.571429         0.774970   \n",
      "2020-06-08 06:39:45-04:00                    21.794872         0.797438   \n",
      "2020-06-08 06:39:53-04:00                    21.428571        -0.059524   \n",
      "\n",
      "                           forecast_mid_price  \n",
      "sip_timestamp                                  \n",
      "2020-06-08 04:00:21-04:00            0.394930  \n",
      "2020-06-08 04:00:24-04:00            0.404670  \n",
      "2020-06-08 04:01:06-04:00            0.495198  \n",
      "2020-06-08 04:08:57-04:00            0.357948  \n",
      "2020-06-08 04:11:00-04:00            0.377651  \n",
      "...                                       ...  \n",
      "2020-06-08 06:26:32-04:00            0.256420  \n",
      "2020-06-08 06:38:25-04:00            0.153061  \n",
      "2020-06-08 06:39:39-04:00           -0.011518  \n",
      "2020-06-08 06:39:45-04:00           -0.084411  \n",
      "2020-06-08 06:39:53-04:00           -0.157883  \n",
      "\n",
      "[73 rows x 10 columns]\n"
     ]
    },
    {
     "name": "stderr",
     "output_type": "stream",
     "text": [
      "/Users/parthbhagat/opt/miniconda3/lib/python3.7/site-packages/pandas/core/indexing.py:671: SettingWithCopyWarning: \n",
      "A value is trying to be set on a copy of a slice from a DataFrame\n",
      "\n",
      "See the caveats in the documentation: https://pandas.pydata.org/pandas-docs/stable/user_guide/indexing.html#returning-a-view-versus-a-copy\n",
      "  self._setitem_with_indexer(indexer, value)\n"
     ]
    },
    {
     "data": {
      "image/png": "[encoded data removed]",
      "text/plain": [
       "<Figure size 432x288 with 1 Axes>"
      ]
     },
     "metadata": {
      "needs_background": "light"
     },
     "output_type": "display_data"
    },
    {
     "data": {
      "image/png": "[encoded data removed]",
      "text/plain": [
       "<Figure size 432x288 with 1 Axes>"
      ]
     },
     "metadata": {
      "needs_background": "light"
     },
     "output_type": "display_data"
    },
    {
     "data": {
      "image/png": "[encoded data removed]",
      "text/plain": [
       "<Figure size 432x288 with 1 Axes>"
      ]
     },
     "metadata": {
      "needs_background": "light"
     },
     "output_type": "display_data"
    },
    {
     "data": {
      "text/plain": [
       "\" sample quote \\n\\nQuote({   'ask_exchange': 12,\\n    'ask_price': 347.81,\\n    'ask_size': 1,\\n    'bid_exchange': 11,\\n    'bid_price': 347.74,\\n    'bid_size': 2,\\n    'conditions': [1],\\n    'indicators': [1],\\n    'participant_timestamp': 1591883083007479000,\\n    'sequence_number': 4543685,\\n    'sip_timestamp': 1591883083007660900,\\n    'tape': 3})\\n    \\n    \""
      ]
     },
     "execution_count": 79,
     "metadata": {},
     "output_type": "execute_result"
    }
   ],
   "source": [
    "df = format_training_data(get_historic_quotes('SPY','2020-06-08')).dropna()\n",
    "\n",
    "print(df)\n",
    "plt.figure(0)\n",
    "plt.scatter(x = df['mbp'],y =df['forecast_mid_price'])\n",
    "plt.figure(1)\n",
    "plt.plot(df['imbalance'].tolist(), color = 'red')\n",
    "plt.figure(2)\n",
    "plt.plot(df['forecast_mid_price'].tolist(), color ='green')\n",
    "plt.show()\n",
    "''' sample quote \n",
    "\n",
    "Quote({   'ask_exchange': 12,\n",
    "    'ask_price': 347.81,\n",
    "    'ask_size': 1,\n",
    "    'bid_exchange': 11,\n",
    "    'bid_price': 347.74,\n",
    "    'bid_size': 2,\n",
    "    'conditions': [1],\n",
    "    'indicators': [1],\n",
    "    'participant_timestamp': 1591883083007479000,\n",
    "    'sequence_number': 4543685,\n",
    "    'sip_timestamp': 1591883083007660900,\n",
    "    'tape': 3})\n",
    "    \n",
    "    '''"
   ]
  },
  {
   "cell_type": "code",
   "execution_count": 95,
   "metadata": {},
   "outputs": [
    {
     "name": "stdout",
     "output_type": "stream",
     "text": [
      "voi adfuller (-3.3721043062366935, 0.011947398358676269, 2, 70, {'1%': -3.5274258688046647, '5%': -2.903810816326531, '10%': -2.5893204081632653}, 708.7163405711586)\n",
      "voi kpss (0.30575650503642965, 0.1, 12, {'10%': 0.347, '5%': 0.463, '2.5%': 0.574, '1%': 0.739})\n",
      "mpc adfuller (-1.8103177998536266, 0.3753513578454968, 2, 70, {'1%': -3.5274258688046647, '5%': -2.903810816326531, '10%': -2.5893204081632653}, -99.19790644227845)\n",
      "mpc kpss (0.36791910093965985, 0.09098314614669833, 12, {'10%': 0.347, '5%': 0.463, '2.5%': 0.574, '1%': 0.739})\n"
     ]
    },
    {
     "name": "stderr",
     "output_type": "stream",
     "text": [
      "/Users/parthbhagat/opt/miniconda3/lib/python3.7/site-packages/statsmodels/tsa/stattools.py:1687: InterpolationWarning: p-value is greater than the indicated p-value\n",
      "  warn(\"p-value is greater than the indicated p-value\", InterpolationWarning)\n"
     ]
    }
   ],
   "source": [
    "voi = df['imbalance'].to_numpy().reshape((-1,1))\n",
    "mean_price_change = df['forecast_mid_price'].to_numpy().reshape((-1,1))\n",
    "print('voi adfuller',adfuller(voi))\n",
    "print('voi kpss',kpss(voi))\n",
    "print('mpc adfuller',adfuller(mean_price_change))\n",
    "print('mpc kpss',kpss(mean_price_change))"
   ]
  },
  {
   "cell_type": "code",
   "execution_count": null,
   "metadata": {},
   "outputs": [],
   "source": []
  }
 ],
 "metadata": {
  "kernelspec": {
   "display_name": "Python 3",
   "language": "python",
   "name": "python3"
  },
  "language_info": {
   "codemirror_mode": {
    "name": "ipython",
    "version": 3
   },
   "file_extension": ".py",
   "mimetype": "text/x-python",
   "name": "python",
   "nbconvert_exporter": "python",
   "pygments_lexer": "ipython3",
   "version": "3.7.6"
  }
 },
 "nbformat": 4,
 "nbformat_minor": 4
}
